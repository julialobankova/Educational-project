{
 "cells": [
  {
   "cell_type": "markdown",
   "id": "0116d779",
   "metadata": {},
   "source": [
    "## Задание 1"
   ]
  },
  {
   "cell_type": "markdown",
   "id": "1b4744c3",
   "metadata": {},
   "source": [
    "На складе лежат разные фрукты в разном количестве.\n",
    "Нужно написать функцию, которая на вход принимает любое количество названий фруктов и их количество, а возвращает общее количество фруктов на складе, при помощи использования kwargs"
   ]
  },
  {
   "cell_type": "code",
   "execution_count": 13,
   "id": "bfb76788",
   "metadata": {},
   "outputs": [
    {
     "name": "stdout",
     "output_type": "stream",
     "text": [
      "apple: 10\n",
      "mellon: 1\n",
      "pear: 3\n",
      "Общая сумма фруктов = 14\n"
     ]
    }
   ],
   "source": [
    "def inventory(**counting):\n",
    "    sum = 0\n",
    "    for fruits,number in counting.items():\n",
    "        print(f\"{fruits}: {number}\")\n",
    "        sum = number+sum\n",
    "    return sum\n",
    "        \n",
    "          \n",
    "print(f'Общая сумма фруктов = {inventory(apple=10, mellon=1,pear=3)}')\n",
    "    "
   ]
  },
  {
   "cell_type": "markdown",
   "id": "5aa2c164",
   "metadata": {},
   "source": [
    "## Задание 2"
   ]
  },
  {
   "cell_type": "markdown",
   "id": "966eb1ec",
   "metadata": {},
   "source": [
    "Дан список с затратами на рекламу. Но в данных есть ошибки, некоторые затраты имеют отрицательную величину. Удалите такие значения из списка и посчитайте суммарные затраты  \n",
    "[100, 125, -90, 345, 655, -1, 0, 200]  \n",
    "*Используйте list comprehensions*"
   ]
  },
  {
   "cell_type": "code",
   "execution_count": 18,
   "id": "3b713cb2",
   "metadata": {},
   "outputs": [
    {
     "name": "stdout",
     "output_type": "stream",
     "text": [
      "[100, 125, 345, 655, 0, 200]\n"
     ]
    },
    {
     "data": {
      "text/plain": [
       "1425"
      ]
     },
     "execution_count": 18,
     "metadata": {},
     "output_type": "execute_result"
    }
   ],
   "source": [
    "adv_cost=[100, 125, -90, 345, 655, -1, 0, 200]\n",
    "correct_data=[i for i in adv_cost if i>=0]\n",
    "print(correct_data)\n",
    "sum(correct_data)"
   ]
  },
  {
   "cell_type": "markdown",
   "id": "e1831825",
   "metadata": {},
   "source": [
    "## Задание 3  "
   ]
  },
  {
   "cell_type": "markdown",
   "id": "546c5af9",
   "metadata": {},
   "source": [
    "Дата покупки:\n",
    "\n"
   ]
  },
  {
   "cell_type": "code",
   "execution_count": 4,
   "id": "1430d0cd",
   "metadata": {},
   "outputs": [],
   "source": [
    "date_ls = ['2021-09-14', '2021-12-15', '2021-09-08', '2021-12-05', '2021-10-09', '2021-09-30', '2021-12-22', '2021-11-29',\n",
    "        '2021-12-24', '2021-11-26', '2021-10-27', '2021-12-18', '2021-11-09', '2021-11-23', '2021-09-27', '2021-10-02',\n",
    "        '2021-12-27', '2021-09-20', '2021-12-13', '2021-11-01', '2021-11-09', '2021-12-06', '2021-12-08', '2021-10-09',\n",
    "        '2021-10-31', '2021-09-30', '2021-11-09', '2021-12-13', '2021-10-26', '2021-12-09']"
   ]
  },
  {
   "cell_type": "markdown",
   "id": "7442089e",
   "metadata": {},
   "source": [
    "Суммы покупок по датам:"
   ]
  },
  {
   "cell_type": "code",
   "execution_count": 10,
   "id": "5d412846",
   "metadata": {},
   "outputs": [],
   "source": [
    "sum_ls = [1270, 8413, 9028, 3703, 5739, 4095, 295, 4944, 5723, 3701, 4471, 651, 7037, 4274, 6275, 4988, 6930, 2971, 6592,\n",
    "         2004, 2822, 519, 3406, 2732, 5015, 2008, 316, 6333, 5700, 2887]"
   ]
  },
  {
   "cell_type": "markdown",
   "id": "eef3d230",
   "metadata": {},
   "source": [
    "### Условие 1"
   ]
  },
  {
   "cell_type": "markdown",
   "id": "9f411980",
   "metadata": {},
   "source": [
    "Найдите, какая выручка у компании в ноябре"
   ]
  },
  {
   "cell_type": "code",
   "execution_count": 16,
   "id": "cc551684",
   "metadata": {},
   "outputs": [],
   "source": [
    "number_of_month = 11\n",
    "monthly_sum = sum([i for j, i in zip(date_ls, sum_ls) if j[5:7] == f\"{number_of_month}\"])"
   ]
  },
  {
   "cell_type": "code",
   "execution_count": 17,
   "id": "ab81d7c0",
   "metadata": {
    "scrolled": false
   },
   "outputs": [
    {
     "name": "stdout",
     "output_type": "stream",
     "text": [
      "Выручка компании в 11 месяце = 25098\n"
     ]
    }
   ],
   "source": [
    "print(f\"Выручка компании в {number_of_month} месяце = {monthly_sum}\")\n"
   ]
  },
  {
   "cell_type": "markdown",
   "id": "d93ab6d5",
   "metadata": {},
   "source": [
    "### Условие 2"
   ]
  },
  {
   "cell_type": "markdown",
   "id": "3f200679",
   "metadata": {},
   "source": [
    " Найдите выручку компании в зависимости от месяца\n",
    "Для этого напишите функцию, которая на вход принимает список с датами и список с выручкой, а на выходе словарь, где ключи - это месяцы, а значения - это выручка.\n",
    "Используйте аннотирование типов."
   ]
  },
  {
   "cell_type": "code",
   "execution_count": 19,
   "id": "59b06ee5",
   "metadata": {},
   "outputs": [
    {
     "name": "stdout",
     "output_type": "stream",
     "text": [
      "{'09': 25647, '12': 45452, '10': 28645, '11': 25098}\n"
     ]
    }
   ],
   "source": [
    "def monthly (date_ls: list, sum_ls: list) -> dict:\n",
    "    res = {}\n",
    "    for j, i in zip(date_list, sum_list):\n",
    "        if j[5:7] in res.keys():\n",
    "            res[j[5:7]] = res[j[5:7]] + i\n",
    "        else:\n",
    "            res[j[5:7]] = i\n",
    "    return res\n",
    " \n",
    "print(monthly(date_ls, sum_ls))"
   ]
  }
 ],
 "metadata": {
  "kernelspec": {
   "display_name": "Python 3 (ipykernel)",
   "language": "python",
   "name": "python3"
  },
  "language_info": {
   "codemirror_mode": {
    "name": "ipython",
    "version": 3
   },
   "file_extension": ".py",
   "mimetype": "text/x-python",
   "name": "python",
   "nbconvert_exporter": "python",
   "pygments_lexer": "ipython3",
   "version": "3.9.13"
  }
 },
 "nbformat": 4,
 "nbformat_minor": 5
}
